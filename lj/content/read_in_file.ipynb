{
 "cells": [
  {
   "cell_type": "code",
   "execution_count": 2,
   "metadata": {
    "collapsed": false
   },
   "outputs": [],
   "source": [
    "import datetime\n",
    "\n",
    "new_d = datetime.date.today()\n",
    "\n",
    "with open('entries.txt') as f:\n",
    "    #content = [x.strip('\\n') for x in content]\n",
    "    #lines = [line.rstrip('\\n') for line in f]\n",
    "    entries = []\n",
    "    entry = {}\n",
    "    i = 0\n",
    "    body = False\n",
    "    for line in lines:\n",
    "        if line.startswith('Title:'):\n",
    "            entry.update({'id' : i})\n",
    "            entry.update({'title' : line.strip('Title: ')})\n",
    "            entry."
   ]
  }
 ],
 "metadata": {
  "kernelspec": {
   "display_name": "Python 3",
   "language": "python",
   "name": "python3"
  },
  "language_info": {
   "codemirror_mode": {
    "name": "ipython",
    "version": 3
   },
   "file_extension": ".py",
   "mimetype": "text/x-python",
   "name": "python",
   "nbconvert_exporter": "python",
   "pygments_lexer": "ipython3",
   "version": "3.5.2"
  }
 },
 "nbformat": 4,
 "nbformat_minor": 2
}
