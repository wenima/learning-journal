{
 "cells": [
  {
   "cell_type": "code",
   "execution_count": 4,
   "metadata": {
    "collapsed": true
   },
   "outputs": [],
   "source": [
    "ENTRIES = [\n",
    "    {\"title\" : \"Today I learned...\", \"id\": 1, \"creation_date\": \"15\",\n",
    "    \"body\": \"\"\"more about fixtures which I find super helpful. I started using the capsys fixture for the mailroom program and really got interested in using it more. Glad to know about scope now, it makes immediate sense.\n",
    "\n",
    "    Also it was useful to learn about class methods, they don't go through the instance for lookup but go directly to the class. I don't have a good use case yet that I can think of but I'm sure it will present itself soon.\n",
    "\n",
    "    The most useful thing I learned as that super classes work differently in Python where the child determines the order of the tree and a class might get called that is not a parent of the immediate parent of the child using the method resolution order.\n",
    "\n",
    "    Today we impleted the doubly linked list which I got to a bit late as I was refactoring the tests for the linked list first while my partner did a great job in mapping out the testing. He wrote the first 10 tests, I wrote the classes/function and when I was 100% complete on tests, I fetched the next round of tests. We need to do a better job at actually reading the assignment though as the README was not in place and it actually required a paragraph about when to use doubly linked list vs linked list. It's a time consuming job to get that readme right.\n",
    "\n",
    "    After coding up the initial server by myself 2 days ago until late night, server didn't get much love today as I went to PuPPy meetup where one of the co founders from Kitt.AI gave a presentation. After watching \"Her\" I was already mind blown and it was fascinating to really see the vision of interacting with bots come to realization. Very fascinating field that I would like to get into as I'm very passionate about effective workflows and bots offer a solution.\n",
    "\"\"\"},\n",
    "    {\"title\" : \"Night and Day\", \"id\": 2, \"creation_date\": \"16\",\n",
    "    \"body\": \"\"\"Today in class I didn't learn much, we literally just read through 2 paragraphs of concurrency and I know as much about it as I knew before the class. That it exists and there are different ways to go about solving it and none is perfect. Ok.\n",
    "\n",
    "    Whenever some topic makes an appearance that is distinctively different to Java I get interested so was trying to absorb the concept of properties that can be used in a declarative style. The problem is that there is so much to do in the assignments that all of the concepts I would like to think about and work into my code go right out the door so other than hearing about them, I again, didn't really learn anything.\n",
    "\n",
    "    I did learn somthing by watching the video: \"Stop writing classes\" which was entertaining and informative and it had great takeaways. Don't use classnames for taxonomy, don't build something because you thinkg you might need it in the future, if a class has 2 methods, one of them being init, it shouldn't be a class. The Q&A at the end of the video showed though that it's not all black&white. I have to explore more on the concepts of storing globals in a class.\n",
    "\n",
    "    Assignments were night and day. Everthing clicked on the data structure assignment wen we blazed right through it allthough we started with a great example of why not to mutate things. I agreed to take an easy approach in how to pass in the iterable and my partner found a method to reverse a list but it also mutates it in place which now broke the tests. Cost us a good 30m to figure it out. So mutate things if you have lots of time is the takeaway. Python gives you the ability to alwasy return something and work with that return for a reason.\n",
    "\n",
    "    Server assignment was polar opposite experience. Progress came to a screeching halt and I feel like I'm not even speaking the same language. Sitting next to each other but not saying even telling the other person which file is being changed/pushed/etc just frustrates me. There probably is a good portion of my inability to explain but there are clearly other factors as well.\n",
    "\n",
    "    Missing sleep def got to me today. I couldn't figure out why my gist wasn't working and all I did was that I forgot to unpack the tuple by missing a * and I also got frustrated towards the end of the server coding which I consider to be a fail\n",
    "\"\"\"},\n",
    "    {\"title\" : \"Today I learned..\", \"id\": 3, \"creation_date\": \"17\",\n",
    "    \"body\": \"\"\"today I learned that I still struggle to write good, workin code in a speedy manner but it went better than the other Gist coding challenges.\n",
    "\n",
    "    the whiteboard challenge was really fun, I enjoy drawing out solutions but didn't have time to finish the actual code but will return to that.\n",
    "\n",
    "    My partner and I got on the same page and we made good progress on the server assignment but it's still uphill.\"\"\"}\n",
    "]"
   ]
  },
  {
   "cell_type": "code",
   "execution_count": 5,
   "metadata": {
    "collapsed": false
   },
   "outputs": [
    {
     "data": {
      "text/plain": [
       "'Today I learned...'"
      ]
     },
     "execution_count": 5,
     "metadata": {},
     "output_type": "execute_result"
    }
   ],
   "source": [
    "ENTRIES[0]['title']"
   ]
  },
  {
   "cell_type": "code",
   "execution_count": 6,
   "metadata": {
    "collapsed": false
   },
   "outputs": [
    {
     "data": {
      "text/plain": [
       "'15'"
      ]
     },
     "execution_count": 6,
     "metadata": {},
     "output_type": "execute_result"
    }
   ],
   "source": [
    "ENTRIES[0]['creation_date']"
   ]
  },
  {
   "cell_type": "code",
   "execution_count": null,
   "metadata": {
    "collapsed": true
   },
   "outputs": [],
   "source": []
  }
 ],
 "metadata": {
  "kernelspec": {
   "display_name": "Python 3",
   "language": "python",
   "name": "python3"
  },
  "language_info": {
   "codemirror_mode": {
    "name": "ipython",
    "version": 3
   },
   "file_extension": ".py",
   "mimetype": "text/x-python",
   "name": "python",
   "nbconvert_exporter": "python",
   "pygments_lexer": "ipython3",
   "version": "3.5.2"
  }
 },
 "nbformat": 4,
 "nbformat_minor": 2
}
